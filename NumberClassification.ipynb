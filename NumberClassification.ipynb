{
 "cells": [
  {
   "cell_type": "markdown",
   "metadata": {},
   "source": [
    "# Import Libray"
   ]
  },
  {
   "cell_type": "code",
   "execution_count": 1,
   "metadata": {},
   "outputs": [],
   "source": [
    "import tensorflow as tf\n",
    "keras = tf.keras\n",
    "\n",
    "import matplotlib.pyplot as plt\n",
    "import numpy as np"
   ]
  },
  {
   "cell_type": "markdown",
   "metadata": {},
   "source": [
    "# Persiapan Data"
   ]
  },
  {
   "cell_type": "code",
   "execution_count": 2,
   "metadata": {},
   "outputs": [],
   "source": [
    "# Data sebesar 11MB akan didownload secara otomatis jika belum pernah sebelumnya\n",
    "data = keras.datasets.mnist\n",
    "(x_train, y_train), (x_test, y_test) = data.load_data()"
   ]
  },
  {
   "cell_type": "code",
   "execution_count": 3,
   "metadata": {},
   "outputs": [
    {
     "data": {
      "text/plain": [
       "array([0, 1, 2, 3, 4, 5, 6, 7, 8, 9], dtype=uint8)"
      ]
     },
     "execution_count": 3,
     "metadata": {},
     "output_type": "execute_result"
    }
   ],
   "source": [
    "# Mendapatkan unique data\n",
    "np.unique(y_train)"
   ]
  },
  {
   "cell_type": "code",
   "execution_count": 5,
   "metadata": {},
   "outputs": [
    {
     "data": {
      "image/png": "[encoded data removed]",
      "text/plain": [
       "<Figure size 432x288 with 1 Axes>"
      ]
     },
     "metadata": {
      "needs_background": "light"
     },
     "output_type": "display_data"
    }
   ],
   "source": [
    "# Menampilkan salah satu data dengan matplotlib\n",
    "plt.imshow(x_train[10],cmap='binary');"
   ]
  },
  {
   "cell_type": "markdown",
   "metadata": {},
   "source": [
    "# Pengolahan Data"
   ]
  },
  {
   "cell_type": "code",
   "execution_count": 6,
   "metadata": {},
   "outputs": [],
   "source": [
    "# Convert gambar menjadi tensor object\n",
    "x_train = tf.constant(x_train)\n",
    "x_test = tf.constant(x_test)\n",
    "y_train = tf.constant(y_train)\n",
    "y_test = tf.constant(y_test)"
   ]
  },
  {
   "cell_type": "markdown",
   "metadata": {},
   "source": [
    "# Membangun Neural Network"
   ]
  },
  {
   "cell_type": "code",
   "execution_count": 7,
   "metadata": {},
   "outputs": [],
   "source": [
    "model = keras.Sequential([\n",
    "    # Input Layers\n",
    "    tf.keras.layers.Flatten(input_shape=(28,28,)),\n",
    "    \n",
    "    # Hidden Layers\n",
    "    tf.keras.layers.Dense(128,activation='relu'),\n",
    "    tf.keras.layers.Dense(128,activation='relu'),\n",
    "    tf.keras.layers.Dense(128,activation='relu'),\n",
    "    tf.keras.layers.Dense(128,activation='relu'),\n",
    "    tf.keras.layers.Dense(128,activation='relu'),\n",
    "    \n",
    "    # Output Layers\n",
    "    keras.layers.Dense(10,activation='softmax')\n",
    "])\n",
    "\n",
    "# Input shape merupakan ukuran gambar yaitu 28x28\n",
    "# Untuk output layer 10 unit merupakan jumlah dari unique data"
   ]
  },
  {
   "cell_type": "code",
   "execution_count": 8,
   "metadata": {},
   "outputs": [],
   "source": [
    "# Compile model\n",
    "model.compile(\n",
    "    optimizer = keras.optimizers.Adam(),\n",
    "    loss = keras.losses.SparseCategoricalCrossentropy(),\n",
    "    metrics = ['accuracy']\n",
    ")"
   ]
  },
  {
   "cell_type": "code",
   "execution_count": 9,
   "metadata": {},
   "outputs": [
    {
     "name": "stdout",
     "output_type": "stream",
     "text": [
      "Model: \"sequential\"\n",
      "_________________________________________________________________\n",
      "Layer (type)                 Output Shape              Param #   \n",
      "=================================================================\n",
      "flatten (Flatten)            (None, 784)               0         \n",
      "_________________________________________________________________\n",
      "dense (Dense)                (None, 128)               100480    \n",
      "_________________________________________________________________\n",
      "dense_1 (Dense)              (None, 128)               16512     \n",
      "_________________________________________________________________\n",
      "dense_2 (Dense)              (None, 128)               16512     \n",
      "_________________________________________________________________\n",
      "dense_3 (Dense)              (None, 128)               16512     \n",
      "_________________________________________________________________\n",
      "dense_4 (Dense)              (None, 128)               16512     \n",
      "_________________________________________________________________\n",
      "dense_5 (Dense)              (None, 10)                1290      \n",
      "=================================================================\n",
      "Total params: 167,818\n",
      "Trainable params: 167,818\n",
      "Non-trainable params: 0\n",
      "_________________________________________________________________\n"
     ]
    }
   ],
   "source": [
    "# Menampilkan informasi model\n",
    "model.summary()"
   ]
  },
  {
   "cell_type": "markdown",
   "metadata": {},
   "source": [
    "# Membuat Callback & Earlystopping Function"
   ]
  },
  {
   "cell_type": "code",
   "execution_count": 10,
   "metadata": {},
   "outputs": [],
   "source": [
    "import os\n",
    "import datetime"
   ]
  },
  {
   "cell_type": "code",
   "execution_count": 11,
   "metadata": {},
   "outputs": [],
   "source": [
    "# Menggunakan tensorboard untuk monitor perkembangan model dalam latihan\n",
    "%load_ext tensorboard\n",
    "def createCallback():\n",
    "    os.makedirs('logs',exist_ok=True)\n",
    "    logdir = os.path.join('logs',datetime.datetime.now().strftime('%Y%m%d-%H%M%S'))\n",
    "    return tf.keras.callbacks.TensorBoard(logdir)"
   ]
  },
  {
   "cell_type": "code",
   "execution_count": 12,
   "metadata": {},
   "outputs": [],
   "source": [
    "callback = createCallback()\n",
    "earlystopping = keras.callbacks.EarlyStopping(monitor='loss',patience=3)"
   ]
  },
  {
   "cell_type": "markdown",
   "metadata": {},
   "source": [
    "# Melatih Neural Network"
   ]
  },
  {
   "cell_type": "code",
   "execution_count": 13,
   "metadata": {},
   "outputs": [
    {
     "name": "stdout",
     "output_type": "stream",
     "text": [
      "Train on 60000 samples\n",
      "Epoch 1/50\n",
      "   32/60000 [..............................] - ETA: 1:13:31 - loss: 35.0899 - accuracy: 0.1250WARNING:tensorflow:Method (on_train_batch_end) is slow compared to the batch update (0.110614). Check your callbacks.\n",
      "60000/60000 [==============================] - 11s 179us/sample - loss: 0.5038 - accuracy: 0.8840\n",
      "Epoch 2/50\n",
      "60000/60000 [==============================] - 8s 138us/sample - loss: 0.1858 - accuracy: 0.9460\n",
      "Epoch 3/50\n",
      "60000/60000 [==============================] - 9s 150us/sample - loss: 0.1436 - accuracy: 0.9590\n",
      "Epoch 4/50\n",
      "60000/60000 [==============================] - 9s 142us/sample - loss: 0.1238 - accuracy: 0.9644\n",
      "Epoch 5/50\n",
      "60000/60000 [==============================] - 8s 131us/sample - loss: 0.1061 - accuracy: 0.9706\n",
      "Epoch 6/50\n",
      "60000/60000 [==============================] - 8s 135us/sample - loss: 0.0923 - accuracy: 0.9757\n",
      "Epoch 7/50\n",
      "60000/60000 [==============================] - 8s 131us/sample - loss: 0.0835 - accuracy: 0.9769\n",
      "Epoch 8/50\n",
      "60000/60000 [==============================] - 8s 140us/sample - loss: 0.0773 - accuracy: 0.9790\n",
      "Epoch 9/50\n",
      "60000/60000 [==============================] - 9s 147us/sample - loss: 0.0693 - accuracy: 0.9809\n",
      "Epoch 10/50\n",
      "60000/60000 [==============================] - 8s 133us/sample - loss: 0.0663 - accuracy: 0.9824\n",
      "Epoch 11/50\n",
      "60000/60000 [==============================] - 8s 132us/sample - loss: 0.0589 - accuracy: 0.9845\n",
      "Epoch 12/50\n",
      "60000/60000 [==============================] - 8s 131us/sample - loss: 0.0590 - accuracy: 0.9846\n",
      "Epoch 13/50\n",
      "60000/60000 [==============================] - 8s 132us/sample - loss: 0.0524 - accuracy: 0.9863\n",
      "Epoch 14/50\n",
      "60000/60000 [==============================] - 8s 137us/sample - loss: 0.0530 - accuracy: 0.9864\n",
      "Epoch 15/50\n",
      "60000/60000 [==============================] - 8s 135us/sample - loss: 0.0497 - accuracy: 0.9873\n",
      "Epoch 16/50\n",
      "60000/60000 [==============================] - 8s 134us/sample - loss: 0.0470 - accuracy: 0.9889\n",
      "Epoch 17/50\n",
      "60000/60000 [==============================] - 8s 135us/sample - loss: 0.0410 - accuracy: 0.9893\n",
      "Epoch 18/50\n",
      "60000/60000 [==============================] - 8s 132us/sample - loss: 0.0449 - accuracy: 0.9894\n",
      "Epoch 19/50\n",
      "60000/60000 [==============================] - 8s 135us/sample - loss: 0.0439 - accuracy: 0.9893\n",
      "Epoch 20/50\n",
      "60000/60000 [==============================] - 8s 134us/sample - loss: 0.0424 - accuracy: 0.9893\n"
     ]
    }
   ],
   "source": [
    "# Masukan hasil latihan ke dalam variabel history agar dapat dilihat progressnya setelah selesai\n",
    "# Alternatif untuk penggunaan tensorboard\n",
    "history = model.fit(x_train,y_train,verbose=1,epochs=50,batch_size=32,callbacks=[callback,earlystopping])"
   ]
  },
  {
   "cell_type": "code",
   "execution_count": 16,
   "metadata": {},
   "outputs": [
    {
     "data": {
      "image/png": "[encoded data removed]",
      "text/plain": [
       "<Figure size 432x288 with 1 Axes>"
      ]
     },
     "metadata": {
      "needs_background": "light"
     },
     "output_type": "display_data"
    }
   ],
   "source": [
    "# Menampilkan grafik loss per epochs pada saat model berlatih\n",
    "plt.plot(history.history['loss']);\n",
    "plt.title('Grafik Loss pada Training Model')\n",
    "plt.xlabel('Epochs')\n",
    "plt.ylabel('Loss');"
   ]
  },
  {
   "cell_type": "markdown",
   "metadata": {},
   "source": [
    "# Membuat Prediksi"
   ]
  },
  {
   "cell_type": "code",
   "execution_count": 17,
   "metadata": {},
   "outputs": [],
   "source": [
    "prediction_confidence = model.predict(x_test)"
   ]
  },
  {
   "cell_type": "code",
   "execution_count": 18,
   "metadata": {},
   "outputs": [
    {
     "data": {
      "text/plain": [
       "array([1.2471676e-09, 4.3805241e-11, 1.9852441e-05, 4.6568777e-10,\n",
       "       5.0422215e-11, 1.4388446e-09, 4.6480869e-16, 9.9998009e-01,\n",
       "       1.1792381e-11, 1.2204592e-08], dtype=float32)"
      ]
     },
     "execution_count": 18,
     "metadata": {},
     "output_type": "execute_result"
    }
   ],
   "source": [
    "prediction_confidence[0]"
   ]
  },
  {
   "cell_type": "code",
   "execution_count": 29,
   "metadata": {},
   "outputs": [],
   "source": [
    "prediction = list()\n",
    "for pred in prediction_confidence:\n",
    "    prediction.append(np.argmax(pred))\n",
    "prediction = np.array(prediction)"
   ]
  },
  {
   "cell_type": "code",
   "execution_count": 30,
   "metadata": {},
   "outputs": [
    {
     "data": {
      "text/plain": [
       "7"
      ]
     },
     "execution_count": 30,
     "metadata": {},
     "output_type": "execute_result"
    }
   ],
   "source": [
    "prediction[0]"
   ]
  },
  {
   "cell_type": "markdown",
   "metadata": {},
   "source": [
    "# Evaluasi Model"
   ]
  },
  {
   "cell_type": "code",
   "execution_count": 31,
   "metadata": {},
   "outputs": [
    {
     "data": {
      "text/plain": [
       "array([7, 2, 1, ..., 4, 5, 6], dtype=int64)"
      ]
     },
     "execution_count": 31,
     "metadata": {},
     "output_type": "execute_result"
    }
   ],
   "source": [
    "prediction"
   ]
  },
  {
   "cell_type": "code",
   "execution_count": 26,
   "metadata": {},
   "outputs": [
    {
     "data": {
      "text/plain": [
       "<tf.Tensor: shape=(10000,), dtype=uint8, numpy=array([7, 2, 1, ..., 4, 5, 6], dtype=uint8)>"
      ]
     },
     "execution_count": 26,
     "metadata": {},
     "output_type": "execute_result"
    }
   ],
   "source": [
    "y_test"
   ]
  },
  {
   "cell_type": "code",
   "execution_count": 36,
   "metadata": {},
   "outputs": [
    {
     "data": {
      "text/plain": [
       "(array([False,  True]), array([ 254, 9746], dtype=int64))"
      ]
     },
     "execution_count": 36,
     "metadata": {},
     "output_type": "execute_result"
    }
   ],
   "source": [
    "np.unique([prediction == y_test],return_counts=True)"
   ]
  },
  {
   "cell_type": "code",
   "execution_count": 37,
   "metadata": {},
   "outputs": [],
   "source": [
    "# Evaluasi error metrics model\n",
    "def getAkurasi(y_true,y_pred):\n",
    "    prediction_accuracy = [y_true == y_pred]\n",
    "    accuracy_metric = np.unique(prediction_accuracy,return_counts=True)\n",
    "    print(f'Prediksi benar : {accuracy_metric[1][1]}')\n",
    "    print(f'Prediksi salah : {accuracy_metric[1][0]}')\n",
    "    print(f'Akurasi prediksi : {accuracy[1][1] / (accuracy[1][0] + accuracy[1][1]) * 100}')"
   ]
  },
  {
   "cell_type": "code",
   "execution_count": 38,
   "metadata": {},
   "outputs": [
    {
     "name": "stdout",
     "output_type": "stream",
     "text": [
      "Prediksi benar : 9746\n",
      "Prediksi salah : 254\n",
      "Akurasi prediksi : 97.46000000000001\n"
     ]
    }
   ],
   "source": [
    "getAkurasi(y_test,prediction)"
   ]
  },
  {
   "cell_type": "markdown",
   "metadata": {},
   "source": [
    "# Visualisasi Prediksi"
   ]
  },
  {
   "cell_type": "code",
   "execution_count": 39,
   "metadata": {},
   "outputs": [],
   "source": [
    "import random"
   ]
  },
  {
   "cell_type": "code",
   "execution_count": 42,
   "metadata": {},
   "outputs": [
    {
     "data": {
      "text/plain": [
       "(10000, 10)"
      ]
     },
     "execution_count": 42,
     "metadata": {},
     "output_type": "execute_result"
    }
   ],
   "source": [
    "prediction_confidence.shape"
   ]
  },
  {
   "cell_type": "code",
   "execution_count": 50,
   "metadata": {},
   "outputs": [],
   "source": [
    "def visualisasi(pred_conf,count):\n",
    "    for i in range(count):\n",
    "        index = random.choice(range(10000))\n",
    "        fig,axes = plt.subplots(ncols=2,nrows=1,figsize=(6,3))\n",
    "        axes[0].imshow(x_test[index],cmap='binary')\n",
    "        axes[0].set_title('Actual')\n",
    "        axes[0].axis(False)\n",
    "\n",
    "        axes[1].grid(True)\n",
    "        axes[1].bar(range(10),pred_conf[index]*100)\n",
    "        axes[1].set_title('Prediction With Confidence Level')\n",
    "        axes[1].set_xticks(range(10))\n",
    "        axes[1].set_yticks(range(0,110,10))\n",
    "\n",
    "        plt.tight_layout()\n",
    "        plt.show()"
   ]
  },
  {
   "cell_type": "code",
   "execution_count": 51,
   "metadata": {
    "scrolled": true
   },
   "outputs": [
    {
     "data": {
      "image/png": "[encoded data removed]",
      "text/plain": [
       "<Figure size 432x216 with 2 Axes>"
      ]
     },
     "metadata": {
      "needs_background": "light"
     },
     "output_type": "display_data"
    },
    {
     "data": {
      "image/png": "[encoded data removed]",
      "text/plain": [
       "<Figure size 432x216 with 2 Axes>"
      ]
     },
     "metadata": {
      "needs_background": "light"
     },
     "output_type": "display_data"
    },
    {
     "data": {
      "image/png": "[encoded data removed]",
      "text/plain": [
       "<Figure size 432x216 with 2 Axes>"
      ]
     },
     "metadata": {
      "needs_background": "light"
     },
     "output_type": "display_data"
    },
    {
     "data": {
      "image/png": "[encoded data removed]",
      "text/plain": [
       "<Figure size 432x216 with 2 Axes>"
      ]
     },
     "metadata": {
      "needs_background": "light"
     },
     "output_type": "display_data"
    },
    {
     "data": {
      "image/png": "[encoded data removed]",
      "text/plain": [
       "<Figure size 432x216 with 2 Axes>"
      ]
     },
     "metadata": {
      "needs_background": "light"
     },
     "output_type": "display_data"
    },
    {
     "data": {
      "image/png": "[encoded data removed]",
      "text/plain": [
       "<Figure size 432x216 with 2 Axes>"
      ]
     },
     "metadata": {
      "needs_background": "light"
     },
     "output_type": "display_data"
    },
    {
     "data": {
      "image/png": "[encoded data removed]",
      "text/plain": [
       "<Figure size 432x216 with 2 Axes>"
      ]
     },
     "metadata": {
      "needs_background": "light"
     },
     "output_type": "display_data"
    },
    {
     "data": {
      "image/png": "[encoded data removed]",
      "text/plain": [
       "<Figure size 432x216 with 2 Axes>"
      ]
     },
     "metadata": {
      "needs_background": "light"
     },
     "output_type": "display_data"
    },
    {
     "data": {
      "image/png": "[encoded data removed]",
      "text/plain": [
       "<Figure size 432x216 with 2 Axes>"
      ]
     },
     "metadata": {
      "needs_background": "light"
     },
     "output_type": "display_data"
    },
    {
     "data": {
      "image/png": "[encoded data removed]",
      "text/plain": [
       "<Figure size 432x216 with 2 Axes>"
      ]
     },
     "metadata": {
      "needs_background": "light"
     },
     "output_type": "display_data"
    }
   ],
   "source": [
    "# Visualisasikan 10 prediksi secara acak\n",
    "visualisasi(prediction_confidence,10)"
   ]
  },
  {
   "cell_type": "markdown",
   "metadata": {},
   "source": [
    "# Simpan Model"
   ]
  },
  {
   "cell_type": "code",
   "execution_count": 52,
   "metadata": {},
   "outputs": [],
   "source": [
    "model.save('ai.h5')"
   ]
  },
  {
   "cell_type": "code",
   "execution_count": null,
   "metadata": {},
   "outputs": [],
   "source": []
  }
 ],
 "metadata": {
  "kernelspec": {
   "display_name": "Python 3",
   "language": "python",
   "name": "python3"
  },
  "language_info": {
   "codemirror_mode": {
    "name": "ipython",
    "version": 3
   },
   "file_extension": ".py",
   "mimetype": "text/x-python",
   "name": "python",
   "nbconvert_exporter": "python",
   "pygments_lexer": "ipython3",
   "version": "3.7.7"
  }
 },
 "nbformat": 4,
 "nbformat_minor": 4
}
